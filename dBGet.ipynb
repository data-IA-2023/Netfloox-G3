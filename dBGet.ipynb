{
 "cells": [
  {
   "cell_type": "code",
   "execution_count": 6,
   "metadata": {},
   "outputs": [],
   "source": [
    "import pandas as pd\n",
    "import requests\n",
    "import gzip\n",
    "import io\n",
    "import os\n",
    "from sqlalchemy import create_engine\n",
    "import psycopg2"
   ]
  },
  {
   "cell_type": "code",
   "execution_count": 17,
   "metadata": {},
   "outputs": [],
   "source": [
    "# Fonction qui transforme des fichier .tsv en dataframe puis en table sql \n",
    "def Yahya(file_url,rowLimit,engine,nameTable):\n",
    "        # Téléchargement du fichier\n",
    "        with requests.get(file_url, stream=True) as r:\n",
    "            r.raise_for_status()\n",
    "            with io.BytesIO(r.content) as buf, gzip.open(buf, 'rt', encoding='ISO-8859-1') as gz_file:\n",
    "                # Transformation en dataframe.\n",
    "                df = pd.read_csv(gz_file, delimiter='\\t', low_memory=False, nrows=rowLimit)\n",
    "\n",
    "        # Remplacement des  '\\\\N' par NaN\n",
    "        df = df.replace('\\\\N', pd.NA)\n",
    "\n",
    "        # Transformation du dataframe en table sql \n",
    "        df.to_sql(nameTable, engine, if_exists='append', index=False, chunksize=1000)\n",
    "        print(\"Data successfully saved to PostgreSQL database.\")\n",
    "\n",
    "# Fonction qui retourne le l'url vers la base de donnée \n",
    "def connectEnginePostgresql(username,password,hostname,port,db):\n",
    "    connection_string = f\"postgresql+psycopg2://{username}:{password}@{hostname}:{port}/{db}\"\n",
    "    return connection_string"
   ]
  },
  {
   "cell_type": "code",
   "execution_count": 15,
   "metadata": {},
   "outputs": [],
   "source": [
    "# Possibilité de mettre une limitation au nombre de ligne pouvant être importer par fichier. \n",
    "rowLimit = None\n",
    "\n",
    "# Url des fichiers\n",
    "urlList  = [\n",
    "           'https://datasets.imdbws.com/name.basics.tsv.gz',\n",
    "           'https://datasets.imdbws.com/title.akas.tsv.gz',\n",
    "           'https://datasets.imdbws.com/title.basics.tsv.gz',\n",
    "           'https://datasets.imdbws.com/title.crew.tsv.gz',\n",
    "           'https://datasets.imdbws.com/title.episode.tsv.gz',\n",
    "           'https://datasets.imdbws.com/title.principals.tsv.gz',\n",
    "           'https://datasets.imdbws.com/title.ratings.tsv.gz'\n",
    "           ]\n",
    "# Nom des tables \n",
    "nameDB   = ['namesBasics','titleAkas','titleBasics','titleCrew','titleEpisode','titlePrincipals','titleRatings']"
   ]
  },
  {
   "cell_type": "code",
   "execution_count": 16,
   "metadata": {},
   "outputs": [
    {
     "name": "stdout",
     "output_type": "stream",
     "text": [
      "Error: 'utf-8' codec can't decode byte 0xe9 in position 84: invalid continuation byte\n",
      "Connection closed\n"
     ]
    }
   ],
   "source": [
    "# L'utilisateur doit inscrire ses données de connexion à sa base de donnée\n",
    "username = input(\"nom de l'utilisateur\")      \n",
    "hostname = input('nom du hostname')    \n",
    "port     = int(input('nom du port'))  \n",
    "database = input(\"nom de la base de donnée\")\n",
    "password = input('mot de passe')  \n",
    "\n",
    "# Connexion à la base de donnée (seulement pour du Postgresql)\n",
    "connection_string = connectEnginePostgresql(username,password,hostname,port,database)\n",
    "engine            = create_engine(connection_string)\n",
    "\n",
    "\n",
    "# boucle for pour chaque URL\n",
    "try:\n",
    "    for i,j in zip (urlList,nameDB):\n",
    "        Yahya(i,rowLimit,engine,j)\n",
    "except Exception as e:\n",
    "    print(\"Error:\", e)\n",
    "finally:\n",
    "    engine.dispose()\n",
    "    print(\"Connection closed\")\n",
    "        "
   ]
  }
 ],
 "metadata": {
  "kernelspec": {
   "display_name": "base",
   "language": "python",
   "name": "python3"
  },
  "language_info": {
   "codemirror_mode": {
    "name": "ipython",
    "version": 3
   },
   "file_extension": ".py",
   "mimetype": "text/x-python",
   "name": "python",
   "nbconvert_exporter": "python",
   "pygments_lexer": "ipython3",
   "version": "3.11.5"
  }
 },
 "nbformat": 4,
 "nbformat_minor": 2
}
